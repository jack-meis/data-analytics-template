{
 "cells": [
  {
   "cell_type": "markdown",
   "id": "7455cbba-3b77-42b5-90ad-ffa0a49e31d3",
   "metadata": {},
   "source": [
    "# Notebook Title"
   ]
  },
  {
   "cell_type": "markdown",
   "id": "32e6ad1e-570b-4b73-ac16-7cd922d9fdfc",
   "metadata": {},
   "source": [
    "**Author Name**  Jack Meis  \n",
    "**Date**  11/13/24"
   ]
  },
  {
   "cell_type": "markdown",
   "id": "2deb9cb7-8d6d-4832-9de8-7c945492f7c3",
   "metadata": {},
   "source": [
    "### Summary  \n",
    "Summarize the project and the actions that will be performed in this python notebook"
   ]
  },
  {
   "cell_type": "markdown",
   "id": "9e6e2957-83e2-4ef3-93eb-5d9a95c6d37e",
   "metadata": {},
   "source": [
    "<br>"
   ]
  },
  {
   "cell_type": "markdown",
   "id": "5ad70d33-ea7c-4be8-9358-79e379b7c64f",
   "metadata": {},
   "source": [
    "### Import Libraries"
   ]
  },
  {
   "cell_type": "code",
   "execution_count": null,
   "id": "6054a788-f621-4a73-beda-9c9a2b1fbc8f",
   "metadata": {},
   "outputs": [],
   "source": [
    "import pandas as pd"
   ]
  },
  {
   "cell_type": "markdown",
   "id": "d65328c5-8d15-45aa-9c5d-a413e1b1e555",
   "metadata": {},
   "source": [
    "<br>"
   ]
  },
  {
   "cell_type": "markdown",
   "id": "b249b6d0-08e6-421f-b473-002c58704d96",
   "metadata": {},
   "source": [
    "## Task 1"
   ]
  },
  {
   "cell_type": "code",
   "execution_count": null,
   "id": "79fa6124-35fe-405a-a3f5-d554aca90e5f",
   "metadata": {},
   "outputs": [],
   "source": [
    "# Code block for first task"
   ]
  },
  {
   "cell_type": "code",
   "execution_count": null,
   "id": "9db27817-ff00-4660-9f23-670984a6a089",
   "metadata": {},
   "outputs": [],
   "source": [
    "file = pd.read_csv(\"example_file.csv\", encoding='utf-8')"
   ]
  },
  {
   "cell_type": "markdown",
   "id": "22ac2f84-7de5-4352-96e7-6ce15db47acb",
   "metadata": {},
   "source": [
    "## Task 2"
   ]
  },
  {
   "cell_type": "code",
   "execution_count": null,
   "id": "25bb3bd0-2589-4dc3-b9d4-c2e70b8d2281",
   "metadata": {},
   "outputs": [],
   "source": [
    "# Code block for second task"
   ]
  },
  {
   "cell_type": "code",
   "execution_count": null,
   "id": "2794225c-d2da-4046-9971-bd8db0655543",
   "metadata": {},
   "outputs": [],
   "source": [
    "file.to_csv(\"example_file_edited.csv\", sep=',', encoding='utf-8')"
   ]
  }
 ],
 "metadata": {
  "kernelspec": {
   "display_name": "Python 3 (ipykernel)",
   "language": "python",
   "name": "python3"
  },
  "language_info": {
   "codemirror_mode": {
    "name": "ipython",
    "version": 3
   },
   "file_extension": ".py",
   "mimetype": "text/x-python",
   "name": "python",
   "nbconvert_exporter": "python",
   "pygments_lexer": "ipython3",
   "version": "3.12.2"
  }
 },
 "nbformat": 4,
 "nbformat_minor": 5
}
